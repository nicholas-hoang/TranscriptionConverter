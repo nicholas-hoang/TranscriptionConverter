{
 "cells": [
  {
   "cell_type": "code",
   "execution_count": 41,
   "metadata": {},
   "outputs": [],
   "source": [
    "import pandas as pd\n",
    "import numpy as np\n",
    "from docx import Document\n",
    "from docx.shared import Inches"
   ]
  },
  {
   "cell_type": "code",
   "execution_count": 42,
   "metadata": {},
   "outputs": [],
   "source": [
    "def docx_to_txt(file):\n",
    "    document = Document(file)\n",
    "    doc = []\n",
    "    for para in document.paragraphs:\n",
    "        doc.append(para.text)\n",
    "    df = pd.DataFrame(doc)\n",
    "    return df"
   ]
  },
  {
   "cell_type": "code",
   "execution_count": 43,
   "metadata": {},
   "outputs": [],
   "source": [
    "def format_table(dataframe):\n",
    "    df = dataframe\n",
    "    # Split the transcripts into a list of strings\n",
    "    df = df[0].str.split('\\n')\n",
    "    df = df.apply(pd.Series)\n",
    "    # Rename the columns\n",
    "    df.rename(columns={0:'TimeStamp', 1:'Speaker',2:'Text'}, inplace=True)\n",
    "    # Split the timestamp into start and end times\n",
    "    df.TimeStamp = df['TimeStamp'].apply(lambda x: x.split(' --> '))\n",
    "    df['Start'] = df['TimeStamp'].apply(lambda x: x[0])\n",
    "    df['End'] = df['TimeStamp'].apply(lambda x: x[1])\n",
    "\n",
    "    return df"
   ]
  },
  {
   "cell_type": "code",
   "execution_count": 44,
   "metadata": {},
   "outputs": [],
   "source": [
    "def map_speakers(dataframe):\n",
    "    df = dataframe\n",
    "    speakers_dict = {speaker: index for index, speaker in enumerate(df.Speaker.unique())}\n",
    "    df['Label'] = df.Speaker.map(speakers_dict)\n",
    "    return df, speakers_dict"
   ]
  },
  {
   "cell_type": "code",
   "execution_count": 45,
   "metadata": {},
   "outputs": [],
   "source": [
    "# def redact_speakers_input(dataframe, speakers_dictionary):\n",
    "\n",
    "#     # Key Values Pairs will be kept as Name: Index for the time being,\n",
    "#     # until I can figure out how to make it {Index: Name}\n",
    "\n",
    "#     print('Here are the speakers in this transcript: ')\n",
    "#     for key, value in speakers_dictionary.items():\n",
    "#         print(f'{key}: {value}')\n",
    "\n",
    "#     # Ask the user which speaker they want to redact\n",
    "#     speaker_to_redact = input('Which speaker would you like to redact? ')\n",
    "\n"
   ]
  },
  {
   "cell_type": "code",
   "execution_count": 46,
   "metadata": {},
   "outputs": [],
   "source": [
    "def concatenate_text_with_timestamp_and_speaker_by_label(df):\n",
    "    concatenated_data = []\n",
    "    current_text = \"\"\n",
    "    start_timestamp = None\n",
    "    speaker = None\n",
    "\n",
    "    for index, row in df.iterrows():\n",
    "        if index == 0 or row['Label'] == df.at[index - 1, 'Label']:\n",
    "            if not start_timestamp:\n",
    "                start_timestamp = row['TimeStamp'][0]\n",
    "            if not speaker:\n",
    "                speaker = row['Speaker']\n",
    "            current_text += \" \" + row['Text']\n",
    "            end_timestamp = row['TimeStamp'][1]\n",
    "        else:\n",
    "            concatenated_data.append({'text': current_text.strip(), 'start_timestamp': start_timestamp, 'end_timestamp': end_timestamp, 'speaker': speaker})\n",
    "            current_text = row['Text']\n",
    "            start_timestamp = row['TimeStamp'][0]\n",
    "            end_timestamp = row['TimeStamp'][1]\n",
    "            speaker = row['Speaker']\n",
    "\n",
    "    concatenated_data.append({'text': current_text.strip(), 'start_timestamp': start_timestamp, 'end_timestamp': end_timestamp, 'speaker': speaker})\n",
    "    return concatenated_data"
   ]
  },
  {
   "cell_type": "code",
   "execution_count": 47,
   "metadata": {},
   "outputs": [],
   "source": [
    "def write_to_word_doc(concatenated_data, filename):\n",
    "    # Create a new Word document\n",
    "    document = Document()\n",
    "\n",
    "    # Add a heading to the document\n",
    "    document.add_heading('Meeting Transcription', level=0)\n",
    "\n",
    "    # Loop through the concatenated data and add each group to the document\n",
    "    for group in concatenated_data:\n",
    "        # Add the start and end timestamps to the document\n",
    "        document.add_paragraph(f\"[{group['start_timestamp']} - {group['end_timestamp']}]\")\n",
    "\n",
    "        # Add the speaker name to the document and make it bold.\n",
    "        speaker_paragraph = document.add_paragraph()\n",
    "        speaker_paragraph.add_run(f\"Speaker: {group['speaker']}\").bold = True\n",
    "\n",
    "        # Add the concatenated text to the document\n",
    "        document.add_paragraph(group['text'])\n",
    "\n",
    "    # Save the document\n",
    "    document.save(filename)"
   ]
  },
  {
   "cell_type": "code",
   "execution_count": 48,
   "metadata": {},
   "outputs": [],
   "source": [
    "# def main():\n",
    "#     file = '/Users/nicholashoang/Documents/GitHub/TranscriptionConverter/data/Transcript Cleaning Automation Discussion_2023-10-02[62].docx'\n",
    "#     df = docx_to_txt(file)\n",
    "#     df = format_table(df)\n",
    "#     df, speakers_dictionary = map_speakers(df)\n",
    "#     redact_speakers_input(df, speakers_dictionary)\n",
    "#     concatenate_data = concatenate_text_with_timestamp_and_speaker_by_label(df)\n",
    "#     write_to_word_doc(concatenate_data, 'data/concatenated_text-CLEANED.docx')\n"
   ]
  },
  {
   "cell_type": "code",
   "execution_count": 49,
   "metadata": {},
   "outputs": [],
   "source": [
    "# if __name__ == '__main__':\n",
    "#     main()"
   ]
  }
 ],
 "metadata": {
  "kernelspec": {
   "display_name": "base",
   "language": "python",
   "name": "python3"
  },
  "language_info": {
   "codemirror_mode": {
    "name": "ipython",
    "version": 3
   },
   "file_extension": ".py",
   "mimetype": "text/x-python",
   "name": "python",
   "nbconvert_exporter": "python",
   "pygments_lexer": "ipython3",
   "version": "3.9.12"
  },
  "orig_nbformat": 4
 },
 "nbformat": 4,
 "nbformat_minor": 2
}
